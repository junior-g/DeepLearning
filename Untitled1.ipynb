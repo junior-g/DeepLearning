{
  "nbformat": 4,
  "nbformat_minor": 0,
  "metadata": {
    "colab": {
      "name": "Untitled1.ipynb",
      "provenance": [],
      "toc_visible": true,
      "authorship_tag": "ABX9TyOthhOClSptN7McQ/D5zp0b",
      "include_colab_link": true
    },
    "kernelspec": {
      "name": "python3",
      "display_name": "Python 3"
    },
    "language_info": {
      "name": "python"
    }
  },
  "cells": [
    {
      "cell_type": "markdown",
      "metadata": {
        "id": "view-in-github",
        "colab_type": "text"
      },
      "source": [
        "<a href=\"https://colab.research.google.com/github/junior-g/DeepLearning/blob/master/Untitled1.ipynb\" target=\"_parent\"><img src=\"https://colab.research.google.com/assets/colab-badge.svg\" alt=\"Open In Colab\"/></a>"
      ]
    },
    {
      "cell_type": "code",
      "metadata": {
        "id": "xOU9094q8XQA"
      },
      "source": [
        "import pandas as pd"
      ],
      "execution_count": null,
      "outputs": []
    },
    {
      "cell_type": "code",
      "metadata": {
        "id": "Ju8x6hJ4GziB"
      },
      "source": [
        "import numpy as np\n",
        "import matplotlib.pyplot as plt"
      ],
      "execution_count": null,
      "outputs": []
    },
    {
      "cell_type": "code",
      "metadata": {
        "id": "cfiuTB7z9QIn"
      },
      "source": [
        "#getting data\n",
        "main_df = pd.read_parquet('/content/sample_data/finalFareData-2.parquet')\n",
        "#main_df.head()\n"
      ],
      "execution_count": null,
      "outputs": []
    },
    {
      "cell_type": "code",
      "metadata": {
        "id": "bbS8g988Ix7K"
      },
      "source": [
        "main_df.drop(['uniqueId', 'carrierCode', 'origin', 'destination', 'actualFromDate', 'actualToDate'], axis='columns', inplace=True)"
      ],
      "execution_count": null,
      "outputs": []
    },
    {
      "cell_type": "code",
      "metadata": {
        "id": "CsvoOij4J1c6"
      },
      "source": [
        "main_df = main_df.sort_values('applicableDate')"
      ],
      "execution_count": null,
      "outputs": []
    },
    {
      "cell_type": "code",
      "metadata": {
        "id": "2kqTlreAL3kh"
      },
      "source": [
        "amount_intial = main_df['fareAmount']\n",
        "feature_intial = main_df.drop('fareAmount', axis=1)"
      ],
      "execution_count": null,
      "outputs": []
    },
    {
      "cell_type": "code",
      "metadata": {
        "id": "YK7Ds8opMbGa"
      },
      "source": [
        "X = pd.get_dummies(feature_intial)\n",
        "Y = amount_intial"
      ],
      "execution_count": null,
      "outputs": []
    },
    {
      "cell_type": "code",
      "metadata": {
        "id": "6ZFQ_02WM0J0"
      },
      "source": [
        "from sklearn.model_selection import train_test_split"
      ],
      "execution_count": null,
      "outputs": []
    },
    {
      "cell_type": "code",
      "metadata": {
        "id": "h5v2sYy9WXaX"
      },
      "source": [
        "X_train, X_test, Y_train, Y_test = train_test_split(X, Y, test_size=0.1)"
      ],
      "execution_count": null,
      "outputs": []
    },
    {
      "cell_type": "code",
      "metadata": {
        "id": "FPporIYXY7BC"
      },
      "source": [
        "from sklearn.linear_model import LinearRegression\n",
        "from sklearn.metrics import mean_squared_error"
      ],
      "execution_count": null,
      "outputs": []
    },
    {
      "cell_type": "code",
      "metadata": {
        "id": "Na5UdAp3ZExi"
      },
      "source": [
        "model = LinearRegression()"
      ],
      "execution_count": null,
      "outputs": []
    },
    {
      "cell_type": "code",
      "metadata": {
        "colab": {
          "base_uri": "https://localhost:8080/"
        },
        "id": "83fDorDiZyZe",
        "outputId": "383f1b64-9637-4c11-996a-28c090730c22"
      },
      "source": [
        "model.fit(X_train,Y_train)"
      ],
      "execution_count": null,
      "outputs": [
        {
          "output_type": "execute_result",
          "data": {
            "text/plain": [
              "LinearRegression(copy_X=True, fit_intercept=True, n_jobs=None, normalize=False)"
            ]
          },
          "metadata": {
            "tags": []
          },
          "execution_count": 62
        }
      ]
    },
    {
      "cell_type": "code",
      "metadata": {
        "id": "Wo4yjfH5aNBA"
      },
      "source": [
        "predict_train = model.predict(X_train)\n",
        "rmse_train = mean_squared_error(Y_train,predict_train)**(0.5)\n",
        "predict_test = model.predict(X_test)\n",
        "rmse_test = mean_squared_error(Y_test,predict_test)**(0.5)\n"
      ],
      "execution_count": null,
      "outputs": []
    },
    {
      "cell_type": "code",
      "metadata": {
        "colab": {
          "base_uri": "https://localhost:8080/"
        },
        "id": "DS8-nx6tbYok",
        "outputId": "ddfb996b-24b4-457e-982f-52812a3fc91d"
      },
      "source": [
        "rmse_test"
      ],
      "execution_count": null,
      "outputs": [
        {
          "output_type": "execute_result",
          "data": {
            "text/plain": [
              "7.730957466689787"
            ]
          },
          "metadata": {
            "tags": []
          },
          "execution_count": 64
        }
      ]
    },
    {
      "cell_type": "code",
      "metadata": {
        "id": "Z4AcZCLJe_ym"
      },
      "source": [
        "# from sklearn.metrics import accuracy_score\n",
        "# prediction_test = model.predict(X_test)\n",
        "# accuracy_score(Y_test, prediction_test)"
      ],
      "execution_count": null,
      "outputs": []
    },
    {
      "cell_type": "code",
      "metadata": {
        "id": "cN5qer18kNjd"
      },
      "source": [
        "#ploting \n",
        "import matplotlib.pyplot as plt\n",
        "%matplotlib inline"
      ],
      "execution_count": null,
      "outputs": []
    },
    {
      "cell_type": "code",
      "metadata": {
        "colab": {
          "base_uri": "https://localhost:8080/"
        },
        "id": "GjQwRR0_kzmz",
        "outputId": "ef7aad1f-19e4-444f-98ae-af8b7ab817d8"
      },
      "source": [
        "model.intercept_"
      ],
      "execution_count": 70,
      "outputs": [
        {
          "output_type": "execute_result",
          "data": {
            "text/plain": [
              "4573116322800.367"
            ]
          },
          "metadata": {
            "tags": []
          },
          "execution_count": 70
        }
      ]
    },
    {
      "cell_type": "code",
      "metadata": {
        "id": "6ZrYD_xXlb8-"
      },
      "source": [
        "Y_pred = model.predict(X_test)"
      ],
      "execution_count": 72,
      "outputs": []
    },
    {
      "cell_type": "code",
      "metadata": {
        "colab": {
          "base_uri": "https://localhost:8080/",
          "height": 419
        },
        "id": "976RH84LlnPa",
        "outputId": "203c52e8-23ef-4cc8-e850-407f11904507"
      },
      "source": [
        "df = pd.DataFrame({'Actual': Y_test, 'Predicted': Y_pred})\n",
        "df"
      ],
      "execution_count": 73,
      "outputs": [
        {
          "output_type": "execute_result",
          "data": {
            "text/html": [
              "<div>\n",
              "<style scoped>\n",
              "    .dataframe tbody tr th:only-of-type {\n",
              "        vertical-align: middle;\n",
              "    }\n",
              "\n",
              "    .dataframe tbody tr th {\n",
              "        vertical-align: top;\n",
              "    }\n",
              "\n",
              "    .dataframe thead th {\n",
              "        text-align: right;\n",
              "    }\n",
              "</style>\n",
              "<table border=\"1\" class=\"dataframe\">\n",
              "  <thead>\n",
              "    <tr style=\"text-align: right;\">\n",
              "      <th></th>\n",
              "      <th>Actual</th>\n",
              "      <th>Predicted</th>\n",
              "    </tr>\n",
              "  </thead>\n",
              "  <tbody>\n",
              "    <tr>\n",
              "      <th>12984</th>\n",
              "      <td>623.000000</td>\n",
              "      <td>622.541016</td>\n",
              "    </tr>\n",
              "    <tr>\n",
              "      <th>13671</th>\n",
              "      <td>193.315635</td>\n",
              "      <td>184.493164</td>\n",
              "    </tr>\n",
              "    <tr>\n",
              "      <th>65878</th>\n",
              "      <td>968.211827</td>\n",
              "      <td>967.432617</td>\n",
              "    </tr>\n",
              "    <tr>\n",
              "      <th>18410</th>\n",
              "      <td>405.000000</td>\n",
              "      <td>405.054688</td>\n",
              "    </tr>\n",
              "    <tr>\n",
              "      <th>51233</th>\n",
              "      <td>1074.943840</td>\n",
              "      <td>1075.290039</td>\n",
              "    </tr>\n",
              "    <tr>\n",
              "      <th>...</th>\n",
              "      <td>...</td>\n",
              "      <td>...</td>\n",
              "    </tr>\n",
              "    <tr>\n",
              "      <th>54039</th>\n",
              "      <td>968.211827</td>\n",
              "      <td>967.441406</td>\n",
              "    </tr>\n",
              "    <tr>\n",
              "      <th>32034</th>\n",
              "      <td>1584.000000</td>\n",
              "      <td>1583.899414</td>\n",
              "    </tr>\n",
              "    <tr>\n",
              "      <th>52844</th>\n",
              "      <td>500.986997</td>\n",
              "      <td>500.372070</td>\n",
              "    </tr>\n",
              "    <tr>\n",
              "      <th>23468</th>\n",
              "      <td>15558.641297</td>\n",
              "      <td>15558.630859</td>\n",
              "    </tr>\n",
              "    <tr>\n",
              "      <th>8919</th>\n",
              "      <td>324.007895</td>\n",
              "      <td>320.924805</td>\n",
              "    </tr>\n",
              "  </tbody>\n",
              "</table>\n",
              "<p>7054 rows × 2 columns</p>\n",
              "</div>"
            ],
            "text/plain": [
              "             Actual     Predicted\n",
              "12984    623.000000    622.541016\n",
              "13671    193.315635    184.493164\n",
              "65878    968.211827    967.432617\n",
              "18410    405.000000    405.054688\n",
              "51233   1074.943840   1075.290039\n",
              "...             ...           ...\n",
              "54039    968.211827    967.441406\n",
              "32034   1584.000000   1583.899414\n",
              "52844    500.986997    500.372070\n",
              "23468  15558.641297  15558.630859\n",
              "8919     324.007895    320.924805\n",
              "\n",
              "[7054 rows x 2 columns]"
            ]
          },
          "metadata": {
            "tags": []
          },
          "execution_count": 73
        }
      ]
    },
    {
      "cell_type": "code",
      "metadata": {
        "id": "2xvhab3Jn74j"
      },
      "source": [
        "df.to_csv('/content/sample_data/prediction_output.csv')"
      ],
      "execution_count": 74,
      "outputs": []
    }
  ]
}